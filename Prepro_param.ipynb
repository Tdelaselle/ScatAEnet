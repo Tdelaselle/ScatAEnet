{
 "cells": [
  {
   "cell_type": "markdown",
   "metadata": {},
   "source": [
    "# Preprocessing parametric files from acoustic emission system PCI2\n",
    "## adding the test starting datetime at the first line "
   ]
  },
  {
   "cell_type": "code",
   "execution_count": 4,
   "metadata": {},
   "outputs": [
    {
     "name": "stdout",
     "output_type": "stream",
     "text": [
      "C:\\Documents and Settings\\INSA LYON\\Bureau\\Theotime\\C6C7SD_5083_2.3\\C6C7SD_5083_2.3.DTA\n",
      "PCI2 (r) Location Version\n",
      "\n",
      "Version E5.90\n",
      "\n",
      "Thu Jun 01 17:37:29 2023\n"
     ]
    }
   ],
   "source": [
    "file_path = \"Parametric_data/C6C7SD_5083_2.3_T_tdd.txt\"\n",
    "\n",
    "with open(file_path, 'r',encoding='latin-1') as file:\n",
    "    for i in range(6):\n",
    "        line = file.readline()\n",
    "        if not line:\n",
    "            break\n",
    "        print(line.strip())"
   ]
  },
  {
   "cell_type": "code",
   "execution_count": 5,
   "metadata": {},
   "outputs": [
    {
     "name": "stdout",
     "output_type": "stream",
     "text": [
      "20230601T17:37:29.000\n"
     ]
    }
   ],
   "source": [
    "add_line = \"20230601T17:37:29.000\" # follow format YYYYMMDDTHH:MM:SS.SSS\n",
    "\n",
    "# add add_line variable content to the first line of the file\n",
    "with open(file_path, 'r+',encoding='latin-1') as file:\n",
    "    content = file.read()\n",
    "    file.seek(0, 0)\n",
    "    file.write(add_line + '\\n' + content)\n",
    "\n",
    "# read the first line of the file\n",
    "with open(file_path, 'r',encoding='latin-1') as file:\n",
    "    print(file.readline().strip())\n"
   ]
  },
  {
   "cell_type": "code",
   "execution_count": null,
   "metadata": {},
   "outputs": [],
   "source": []
  }
 ],
 "metadata": {
  "kernelspec": {
   "display_name": "scatnet_env",
   "language": "python",
   "name": "python3"
  },
  "language_info": {
   "codemirror_mode": {
    "name": "ipython",
    "version": 3
   },
   "file_extension": ".py",
   "mimetype": "text/x-python",
   "name": "python",
   "nbconvert_exporter": "python",
   "pygments_lexer": "ipython3",
   "version": "3.12.2"
  }
 },
 "nbformat": 4,
 "nbformat_minor": 2
}
